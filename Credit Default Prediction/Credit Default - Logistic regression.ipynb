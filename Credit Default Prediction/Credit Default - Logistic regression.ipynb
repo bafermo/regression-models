{
 "cells": [
  {
   "cell_type": "markdown",
   "metadata": {},
   "source": [
    "# Logistic Regression SKLEARN"
   ]
  },
  {
   "cell_type": "code",
   "execution_count": 1,
   "metadata": {},
   "outputs": [],
   "source": [
    "get_ipython().run_line_magic('matplotlib', 'inline')\n",
    "\n",
    "import pandas as pd\n",
    "import numpy as np\n",
    "import statsmodels.api as sm\n",
    "from sklearn.linear_model import LogisticRegression\n",
    "from sklearn.model_selection import train_test_split\n",
    "from sklearn.metrics import plot_confusion_matrix,plot_roc_curve\n",
    "\n",
    "import seaborn as sns\n",
    "import matplotlib.pyplot as plt \n",
    "plt.rc(\"font\", size=14)"
   ]
  },
  {
   "cell_type": "code",
   "execution_count": 2,
   "metadata": {},
   "outputs": [],
   "source": [
    "data = pd.read_csv('CC2.csv')\n",
    "data.head(3)"
   ]
  },
  {
   "cell_type": "code",
   "execution_count": 166,
   "metadata": {},
   "outputs": [
    {
     "data": {
      "text/html": [
       "<div>\n",
       "<style scoped>\n",
       "    .dataframe tbody tr th:only-of-type {\n",
       "        vertical-align: middle;\n",
       "    }\n",
       "\n",
       "    .dataframe tbody tr th {\n",
       "        vertical-align: top;\n",
       "    }\n",
       "\n",
       "    .dataframe thead th {\n",
       "        text-align: right;\n",
       "    }\n",
       "</style>\n",
       "<table border=\"1\" class=\"dataframe\">\n",
       "  <thead>\n",
       "    <tr style=\"text-align: right;\">\n",
       "      <th></th>\n",
       "      <th>default</th>\n",
       "      <th>student</th>\n",
       "      <th>balance</th>\n",
       "      <th>income</th>\n",
       "    </tr>\n",
       "  </thead>\n",
       "  <tbody>\n",
       "    <tr>\n",
       "      <th>count</th>\n",
       "      <td>9501.000000</td>\n",
       "      <td>9501.000000</td>\n",
       "      <td>9501.000000</td>\n",
       "      <td>9501.000000</td>\n",
       "    </tr>\n",
       "    <tr>\n",
       "      <th>mean</th>\n",
       "      <td>0.035049</td>\n",
       "      <td>0.302915</td>\n",
       "      <td>879.249432</td>\n",
       "      <td>33316.251726</td>\n",
       "    </tr>\n",
       "    <tr>\n",
       "      <th>std</th>\n",
       "      <td>0.183913</td>\n",
       "      <td>0.459543</td>\n",
       "      <td>455.729715</td>\n",
       "      <td>13379.374162</td>\n",
       "    </tr>\n",
       "    <tr>\n",
       "      <th>min</th>\n",
       "      <td>0.000000</td>\n",
       "      <td>0.000000</td>\n",
       "      <td>0.023816</td>\n",
       "      <td>771.967729</td>\n",
       "    </tr>\n",
       "    <tr>\n",
       "      <th>25%</th>\n",
       "      <td>0.000000</td>\n",
       "      <td>0.000000</td>\n",
       "      <td>539.441909</td>\n",
       "      <td>21097.370307</td>\n",
       "    </tr>\n",
       "    <tr>\n",
       "      <th>50%</th>\n",
       "      <td>0.000000</td>\n",
       "      <td>0.000000</td>\n",
       "      <td>854.511279</td>\n",
       "      <td>34316.890148</td>\n",
       "    </tr>\n",
       "    <tr>\n",
       "      <th>75%</th>\n",
       "      <td>0.000000</td>\n",
       "      <td>1.000000</td>\n",
       "      <td>1185.096271</td>\n",
       "      <td>43660.391714</td>\n",
       "    </tr>\n",
       "    <tr>\n",
       "      <th>max</th>\n",
       "      <td>1.000000</td>\n",
       "      <td>1.000000</td>\n",
       "      <td>2654.322576</td>\n",
       "      <td>73554.233495</td>\n",
       "    </tr>\n",
       "  </tbody>\n",
       "</table>\n",
       "</div>"
      ],
      "text/plain": [
       "           default      student      balance        income\n",
       "count  9501.000000  9501.000000  9501.000000   9501.000000\n",
       "mean      0.035049     0.302915   879.249432  33316.251726\n",
       "std       0.183913     0.459543   455.729715  13379.374162\n",
       "min       0.000000     0.000000     0.023816    771.967729\n",
       "25%       0.000000     0.000000   539.441909  21097.370307\n",
       "50%       0.000000     0.000000   854.511279  34316.890148\n",
       "75%       0.000000     1.000000  1185.096271  43660.391714\n",
       "max       1.000000     1.000000  2654.322576  73554.233495"
      ]
     },
     "execution_count": 166,
     "metadata": {},
     "output_type": "execute_result"
    }
   ],
   "source": [
    "data.describe()"
   ]
  },
  {
   "cell_type": "code",
   "execution_count": 4,
   "metadata": {},
   "outputs": [],
   "source": [
    "#int variables into categoric ones (binary)\n",
    "data['default'] = data['default'].replace({'No':0,'Yes':1})\n",
    "data['student'] = data['student'].replace({'No':0,'Yes':1})\n",
    "\n",
    "#setting first column as index\n",
    "data.set_index('Unnamed: 0', inplace=True)"
   ]
  },
  {
   "cell_type": "code",
   "execution_count": 5,
   "metadata": {},
   "outputs": [],
   "source": [
    "#delegting Balance = 0 observations\n",
    "data = data[data['balance']>0]"
   ]
  },
  {
   "cell_type": "markdown",
   "metadata": {},
   "source": [
    "#### Exploratory analysis was made on the Multiple Regression analysis file"
   ]
  },
  {
   "cell_type": "markdown",
   "metadata": {},
   "source": [
    "# Balancing dataset"
   ]
  },
  {
   "cell_type": "code",
   "execution_count": 32,
   "metadata": {},
   "outputs": [],
   "source": [
    "#function recieves data and new size for most represented class\n",
    "def balancing(data,size):\n",
    "    \n",
    "    mistura = data.sample(frac=1,random_state=4)\n",
    "    #Default fica num dataset separado\n",
    "    fraude = mistura.loc[mistura['default'] == 1]\n",
    "    #Selecionna n observações aleatoriamente de default = No\n",
    "    nao_fraude = mistura.loc[mistura['default'] == 0].sample(n=size,random_state=503)\n",
    "    \n",
    "    return pd.concat([fraude, nao_fraude])"
   ]
  },
  {
   "cell_type": "code",
   "execution_count": 33,
   "metadata": {},
   "outputs": [
    {
     "data": {
      "text/plain": [
       "((100, 4), (333, 4))"
      ]
     },
     "execution_count": 33,
     "metadata": {},
     "output_type": "execute_result"
    }
   ],
   "source": [
    "df = balancing(data,100)\n",
    "(df[df['default']==0].shape, df[df['default']==1].shape)"
   ]
  },
  {
   "cell_type": "code",
   "execution_count": 34,
   "metadata": {},
   "outputs": [
    {
     "data": {
      "text/html": [
       "<div>\n",
       "<style scoped>\n",
       "    .dataframe tbody tr th:only-of-type {\n",
       "        vertical-align: middle;\n",
       "    }\n",
       "\n",
       "    .dataframe tbody tr th {\n",
       "        vertical-align: top;\n",
       "    }\n",
       "\n",
       "    .dataframe thead th {\n",
       "        text-align: right;\n",
       "    }\n",
       "</style>\n",
       "<table border=\"1\" class=\"dataframe\">\n",
       "  <thead>\n",
       "    <tr style=\"text-align: right;\">\n",
       "      <th></th>\n",
       "      <th>default</th>\n",
       "      <th>student</th>\n",
       "      <th>income</th>\n",
       "      <th>balance</th>\n",
       "    </tr>\n",
       "  </thead>\n",
       "  <tbody>\n",
       "    <tr>\n",
       "      <th>default</th>\n",
       "      <td>1.000000</td>\n",
       "      <td>0.032543</td>\n",
       "      <td>-0.017480</td>\n",
       "      <td>0.363251</td>\n",
       "    </tr>\n",
       "    <tr>\n",
       "      <th>student</th>\n",
       "      <td>0.032543</td>\n",
       "      <td>1.000000</td>\n",
       "      <td>-0.757393</td>\n",
       "      <td>0.189819</td>\n",
       "    </tr>\n",
       "    <tr>\n",
       "      <th>income</th>\n",
       "      <td>-0.017480</td>\n",
       "      <td>-0.757393</td>\n",
       "      <td>1.000000</td>\n",
       "      <td>-0.140588</td>\n",
       "    </tr>\n",
       "    <tr>\n",
       "      <th>balance</th>\n",
       "      <td>0.363251</td>\n",
       "      <td>0.189819</td>\n",
       "      <td>-0.140588</td>\n",
       "      <td>1.000000</td>\n",
       "    </tr>\n",
       "  </tbody>\n",
       "</table>\n",
       "</div>"
      ],
      "text/plain": [
       "          default   student    income   balance\n",
       "default  1.000000  0.032543 -0.017480  0.363251\n",
       "student  0.032543  1.000000 -0.757393  0.189819\n",
       "income  -0.017480 -0.757393  1.000000 -0.140588\n",
       "balance  0.363251  0.189819 -0.140588  1.000000"
      ]
     },
     "execution_count": 34,
     "metadata": {},
     "output_type": "execute_result"
    }
   ],
   "source": [
    "#Correlation matrix\n",
    "data[['default','student','income','balance']].corr()"
   ]
  },
  {
   "cell_type": "markdown",
   "metadata": {},
   "source": [
    "# Logistic Regression"
   ]
  },
  {
   "cell_type": "markdown",
   "metadata": {},
   "source": [
    "### Split train and test data"
   ]
  },
  {
   "cell_type": "code",
   "execution_count": 184,
   "metadata": {},
   "outputs": [],
   "source": [
    "#first split: dataset with all features \n",
    "xtrain,xtest,ytrain,ytest = train_test_split(df[['balance','student','income']],\n",
    "                                             df['default'],test_size=.50,random_state=503)\n",
    "\n",
    "#second split: dataset without 'income'\n",
    "xtrain2,xtest2,ytrain2,ytest2 = train_test_split(df[['balance']],\n",
    "                                             df['default'],test_size=.50,random_state=503)\n"
   ]
  },
  {
   "cell_type": "markdown",
   "metadata": {},
   "source": [
    "#### Because the dataset now only contains 433 observations, we will use 'liblinar' as the solver for our logistic regression"
   ]
  },
  {
   "cell_type": "code",
   "execution_count": 194,
   "metadata": {},
   "outputs": [],
   "source": [
    "model1 = LogisticRegression(max_iter=2000).fit(xtrain, ytrain)\n",
    "model2 = LogisticRegression(max_iter=2000).fit(xtrain2, ytrain2)\n",
    "\n",
    "prediction = model1.predict(xtest)\n",
    "prediction2 = model2.predict(xtest2)\n"
   ]
  },
  {
   "cell_type": "markdown",
   "metadata": {},
   "source": [
    "### Confusion Matrix"
   ]
  },
  {
   "cell_type": "code",
   "execution_count": 195,
   "metadata": {},
   "outputs": [
    {
     "data": {
      "image/png": "[encoded data removed]",
      "text/plain": [
       "<Figure size 720x288 with 4 Axes>"
      ]
     },
     "metadata": {
      "needs_background": "light"
     },
     "output_type": "display_data"
    }
   ],
   "source": [
    "fig, ax = plt.subplots(1,2,figsize=(10,4),sharey=True)\n",
    "\n",
    "plot_confusion_matrix(model1,xtest,ytest,cmap='Blues',ax=ax[0])\n",
    "\n",
    "plot_confusion_matrix(model2,xtest2,ytest2,cmap='Blues',ax=ax[1])\n",
    "fig.suptitle(\"Modelo completo x Modelo sem 'income'\")\n",
    "plt.show()"
   ]
  },
  {
   "cell_type": "markdown",
   "metadata": {},
   "source": [
    "### ROC Curve"
   ]
  },
  {
   "cell_type": "code",
   "execution_count": 196,
   "metadata": {},
   "outputs": [
    {
     "data": {
      "image/png": "[encoded data removed]",
      "text/plain": [
       "<Figure size 720x288 with 2 Axes>"
      ]
     },
     "metadata": {
      "needs_background": "light"
     },
     "output_type": "display_data"
    }
   ],
   "source": [
    "fig, ax = plt.subplots(1,2,figsize=(10,4),sharex=True,sharey=True)\n",
    "\n",
    "plot_roc_curve(model1,xtest,ytest,ax=ax[0])\n",
    "plot_roc_curve(model2,xtest2,ytest,ax=ax[1])\n",
    "fig.suptitle(\"ROC Modelo completo x ROC Modelo sem 'income'\")\n",
    "\n",
    "plt.show()"
   ]
  },
  {
   "cell_type": "code",
   "execution_count": 202,
   "metadata": {},
   "outputs": [
    {
     "data": {
      "image/png": "[encoded data removed]",
      "text/plain": [
       "<Figure size 432x288 with 1 Axes>"
      ]
     },
     "metadata": {
      "needs_background": "light"
     },
     "output_type": "display_data"
    }
   ],
   "source": [
    "x = np.linspace(0,max(df['balance']))\n",
    "prob2 = model2.predict_proba(x.reshape(-1,1)).T[1]\n",
    "\n",
    "sns.lineplot(x= x, y = prob,color='black').set_title(\"Modelo2 : probabilidade de default de acordo com saldo do cartão (Balance)\")\n",
    "plt.show()"
   ]
  }
 ],
 "metadata": {
  "kernelspec": {
   "display_name": "Python 3",
   "language": "python",
   "name": "python3"
  },
  "language_info": {
   "codemirror_mode": {
    "name": "ipython",
    "version": 3
   },
   "file_extension": ".py",
   "mimetype": "text/x-python",
   "name": "python",
   "nbconvert_exporter": "python",
   "pygments_lexer": "ipython3",
   "version": "3.8.3"
  }
 },
 "nbformat": 4,
 "nbformat_minor": 4
}
